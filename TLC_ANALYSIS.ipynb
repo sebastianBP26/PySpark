{
 "cells": [
  {
   "cell_type": "markdown",
   "metadata": {},
   "source": [
    "# Trip Record Data Analysis with Pyspark"
   ]
  },
  {
   "cell_type": "markdown",
   "metadata": {},
   "source": [
    "The databases that we are going to use record every trip in New York City made by `Yellow` and `Green` taxi. Datasets are in parquet format. However, we will using Pypsark.DataFrame to manipulate the data. You can download and see in details the data in [Trip Record Data](https://www.nyc.gov/site/tlc/about/).\n",
    "\n",
    "<div class=\"admonition note alert alert-info\">\n",
    "<p class=\"first admonition-title\" style=\"font-weight: bold;\">Note</p>\n",
    "<p class=\"last\">I am assuming that you have installed apache spark and java tools in order to run everything.</p>\n",
    "</div>"
   ]
  },
  {
   "cell_type": "markdown",
   "metadata": {},
   "source": [
    "## Create Spark Session"
   ]
  },
  {
   "cell_type": "code",
   "execution_count": null,
   "metadata": {},
   "outputs": [],
   "source": [
    "import os\n",
    "from pyspark.sql import SparkSession\n",
    "import findspark\n",
    "\n",
    "\n",
    "os.environ['JAVA_HOME'] = 'C:\\Program Files\\Java\\jdk-11'  # Path to Java\n",
    "os.environ['SPARK_HOME'] = 'C:\\spark-3.4.3-bin-hadoop3'  # Path to spark\n",
    "os.environ['PYSPARK_PYTHON'] = 'python'\n",
    "os.environ['PYSPARK_DRIVER_PYTHON'] = 'python'\n",
    "\n",
    "spark = SparkSession.builder.master(\"local[*]\").getOrCreate()\n",
    "findspark.init()"
   ]
  },
  {
   "cell_type": "markdown",
   "metadata": {},
   "source": [
    "# Variables Description"
   ]
  },
  {
   "cell_type": "markdown",
   "metadata": {},
   "source": [
    "- **VendorID** : A code indicating the TPEP provider that provided the record.\n",
    "- **tpep_pickup_datetime** : The date and time when the meter was engaged.\n",
    "- **tpep_dropoff_datetime** : The date and time when the meter was disengaged.\n",
    "- **Passenger_count**: The number of passengers in the vehicle. This is a driver-entered value.\n",
    "- **Trip_distance**: The elapsed trip distance in miles reported by the taximeter.\n",
    "- **PULocationID**: TLC Taxi Zone in which the taximeter was engaged.\n",
    "- **DOLocationID**: TLC Taxi Zone in which the taximeter was disengaged.\n",
    "- **RateCodeID**: The final rate code in effect at the end of the trip. 1= Standard rate  2=JFK 3=Newark 4=Nassau or Westchester 5=Negotiated fare 6=Group ride\n",
    "-**Store_and_fwd_flag**: This flag indicates whether the trip record was held in vehicle  memory before sending to the vendor, aka “store and forward,”  because the vehicle did not have a connection to the server. Y= store and forward trip N= not a store and forward trip.\n",
    "- **Payment_type**: A numeric code signifying how the passenger paid for the trip.  1= Credit card 2= Cash 3= No charge 4= Dispute 5= Unknown 6= Voided trip\n",
    "- **Fare_amount**: The time-and-distance fare calculated by the meter.\n",
    "- **Extra**: Miscellaneous extras and surcharges. Currently, this only includes the $0.50 and $1 rush hour and overnight charges.\n",
    "- **MTA_tax**: $0.50 MTA tax that is automatically triggered based on the metered  rate in use.\n",
    "- **Improvement_surcharge**: $0.30 improvement surcharge assessed trips at the flag drop. The  improvement surcharge began being levied in 2015.\n",
    "- **Tip_amount**: Tip amount – This field is automatically populated for credit card  tips. Cash tips are not included.\n",
    "- **Tolls_amount**: Total amount of all tolls paid in trip. \n",
    "- **Total_amount**: The total amount charged to passengers. Does not include cash tips.\n",
    "- **Congestion_Surcharge**: Total amount collected in trip for NYS congestion surcharge.\n",
    "- **Airport_fee**: $1.25 for pick up only at LaGuardia and John F. Kennedy Airports."
   ]
  }
 ],
 "metadata": {
  "kernelspec": {
   "display_name": "Python 3",
   "language": "python",
   "name": "python3"
  },
  "language_info": {
   "codemirror_mode": {
    "name": "ipython",
    "version": 3
   },
   "file_extension": ".py",
   "mimetype": "text/x-python",
   "name": "python",
   "nbconvert_exporter": "python",
   "pygments_lexer": "ipython3",
   "version": "3.11.3"
  }
 },
 "nbformat": 4,
 "nbformat_minor": 2
}
